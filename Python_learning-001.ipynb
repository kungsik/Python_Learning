{
 "cells": [
  {
   "cell_type": "markdown",
   "metadata": {},
   "source": [
    "# Python 기초 실습 1\n",
    "\n",
    "### 변수 출력 관련"
   ]
  },
  {
   "cell_type": "code",
   "execution_count": 1,
   "metadata": {},
   "outputs": [],
   "source": [
    "message1 = '{0} is easier than {1}'.format('Python','Java')\n",
    "message2 = '{1} is easier than {0}'.format('Python','Java')\n",
    "#10은 전체 크기. 2는 소수점 자리수 표시. \n",
    "message3 = '{:10.2f} is easier than {:d}'.format(1.234234234,12)\n",
    "message4 = '{}'.format(1.234234234)"
   ]
  },
  {
   "cell_type": "code",
   "execution_count": 3,
   "metadata": {
    "scrolled": false
   },
   "outputs": [
    {
     "name": "stdout",
     "output_type": "stream",
     "text": [
      "Python is easier than Java\n",
      "Java is easier than Python\n",
      "      1.23 is easier than 12\n",
      "1.234234234\n"
     ]
    }
   ],
   "source": [
    "print(message1)\n",
    "print(message2)\n",
    "print(message3)\n",
    "print(message4)"
   ]
  },
  {
   "cell_type": "markdown",
   "metadata": {},
   "source": [
    "### List 관련 명령어 실습"
   ]
  },
  {
   "cell_type": "code",
   "execution_count": 4,
   "metadata": {},
   "outputs": [
    {
     "name": "stdout",
     "output_type": "stream",
     "text": [
      "[1, 2, 3, 4, 5, 'Hello']\n"
     ]
    }
   ],
   "source": [
    "#List 선언\n",
    "myList = [1,2,3,4,5,\"Hello\"]\n",
    "\n",
    "#List 출력\n",
    "print(myList)"
   ]
  },
  {
   "cell_type": "code",
   "execution_count": 5,
   "metadata": {},
   "outputs": [
    {
     "name": "stdout",
     "output_type": "stream",
     "text": [
      "4\n"
     ]
    }
   ],
   "source": [
    "#3번째 요소 출력\n",
    "print(myList[3])"
   ]
  },
  {
   "cell_type": "code",
   "execution_count": 6,
   "metadata": {},
   "outputs": [
    {
     "name": "stdout",
     "output_type": "stream",
     "text": [
      "Hello\n"
     ]
    }
   ],
   "source": [
    "#마지막 요소 출력\n",
    "print(myList[-1])"
   ]
  },
  {
   "cell_type": "code",
   "execution_count": 7,
   "metadata": {},
   "outputs": [
    {
     "name": "stdout",
     "output_type": "stream",
     "text": [
      "[1, 20, 3, 4, 5, 'Hello']\n"
     ]
    }
   ],
   "source": [
    "#요소 값 수정\n",
    "myList[1]=20\n",
    "print(myList)"
   ]
  },
  {
   "cell_type": "code",
   "execution_count": 8,
   "metadata": {},
   "outputs": [
    {
     "name": "stdout",
     "output_type": "stream",
     "text": [
      "[1, 20, 3, 4, 5, 'Hello', 'How are you']\n"
     ]
    }
   ],
   "source": [
    "#새로운 요소 추가\n",
    "myList.append(\"How are you\")\n",
    "print(myList)"
   ]
  },
  {
   "cell_type": "code",
   "execution_count": 10,
   "metadata": {},
   "outputs": [
    {
     "name": "stdout",
     "output_type": "stream",
     "text": [
      "[1, 20, 3, 4, 5, 'How are you']\n"
     ]
    }
   ],
   "source": [
    "#요소 삭제\n",
    "del myList[5]\n",
    "print(myList)"
   ]
  },
  {
   "cell_type": "markdown",
   "metadata": {},
   "source": [
    "### Tuple 관련 명령어 실습\n",
    "\n",
    "Tuple은 List와 유사하지만 값을 수정할 수 없다는 데에서 List와 차이가 있다. 예를 들면 Tuple은 프로그램이 월의 이름을 저장할 필요가 있을 때 유용하다."
   ]
  },
  {
   "cell_type": "code",
   "execution_count": 11,
   "metadata": {
    "collapsed": true
   },
   "outputs": [],
   "source": [
    "#Tuple정의는 () 를 사용한다.\n",
    "monthsOfYear = (\"Jan\",\"Feb\",\"Mar\",\"Apr\",\"May\",\"Jun\",\"Jul\",\"Aug\",\"Sep\",\"Oct\",\"Nov\",\"Dec\")"
   ]
  },
  {
   "cell_type": "code",
   "execution_count": 12,
   "metadata": {},
   "outputs": [
    {
     "data": {
      "text/plain": [
       "'Jan'"
      ]
     },
     "execution_count": 12,
     "metadata": {},
     "output_type": "execute_result"
    }
   ],
   "source": [
    "#그러나 Tuple 값을 불러올 때는 List와 동일한 방식을 사용한다.\n",
    "monthsOfYear[0]"
   ]
  },
  {
   "cell_type": "code",
   "execution_count": 13,
   "metadata": {},
   "outputs": [
    {
     "data": {
      "text/plain": [
       "'Dec'"
      ]
     },
     "execution_count": 13,
     "metadata": {},
     "output_type": "execute_result"
    }
   ],
   "source": [
    "monthsOfYear[-1]"
   ]
  },
  {
   "cell_type": "markdown",
   "metadata": {},
   "source": [
    "### Dictionary 관련 명령어 실습\n",
    "Dictionary는 PHP의 연관배열과 같은 것이다. 각 List 값에는 고유한 이름이 부여된다."
   ]
  },
  {
   "cell_type": "code",
   "execution_count": 14,
   "metadata": {},
   "outputs": [
    {
     "data": {
      "text/plain": [
       "{'John': 51, 'Peter': 13}"
      ]
     },
     "execution_count": 14,
     "metadata": {},
     "output_type": "execute_result"
    }
   ],
   "source": [
    "#Dictionary를 선언할 때는 { dictionary key:data } 의 방식을 사용한다. 각 key는 고유해야 하기 때문에 중복될 시, 마지막 값만 출력된다.\n",
    "myDictionary = {\"Peter\":38, \"John\":51, \"Peter\":13}\n",
    "myDictionary"
   ]
  },
  {
   "cell_type": "code",
   "execution_count": 17,
   "metadata": {},
   "outputs": [
    {
     "data": {
      "text/plain": [
       "{'Alex': 13, 'Alvin': 'Not Available', 'John': 51, 'Peter': 39}"
      ]
     },
     "execution_count": 17,
     "metadata": {},
     "output_type": "execute_result"
    }
   ],
   "source": [
    "#Dictionary는 dic() 함수를 통해 선언될 수 있다.\n",
    "userNameAndAge1 = {\"Peter\":39, \"John\":51, \"Alex\":13, \"Alvin\":\"Not Available\"}\n",
    "userNameAndAge1 "
   ]
  },
  {
   "cell_type": "code",
   "execution_count": 18,
   "metadata": {},
   "outputs": [
    {
     "data": {
      "text/plain": [
       "{'Alex': 13, 'Alvin': 'Not Available', 'John': 51, 'Peter': 39}"
      ]
     },
     "execution_count": 18,
     "metadata": {},
     "output_type": "execute_result"
    }
   ],
   "source": [
    "userNameAndAge2 = dict(Peter=39, John = 51, Alex = 13, Alvin = \"Not Available\")\n",
    "userNameAndAge2 "
   ]
  },
  {
   "cell_type": "code",
   "execution_count": 20,
   "metadata": {},
   "outputs": [
    {
     "data": {
      "text/plain": [
       "51"
      ]
     },
     "execution_count": 20,
     "metadata": {},
     "output_type": "execute_result"
    }
   ],
   "source": [
    "#Dictionary의 값에 접근할 때에는 List와 같이 사용하되 key 값을 [ ] 안에 넣으면 된다.\n",
    "userNameAndAge1[\"John\"]"
   ]
  },
  {
   "cell_type": "code",
   "execution_count": 22,
   "metadata": {},
   "outputs": [
    {
     "data": {
      "text/plain": [
       "{'Alex': 13, 'Alvin': 'Not Available', 'John': 21, 'Peter': 39}"
      ]
     },
     "execution_count": 22,
     "metadata": {},
     "output_type": "execute_result"
    }
   ],
   "source": [
    "#Dictionary 값의 수정\n",
    "userNameAndAge1[\"John\"] = 21\n",
    "userNameAndAge1"
   ]
  },
  {
   "cell_type": "code",
   "execution_count": 23,
   "metadata": {},
   "outputs": [
    {
     "data": {
      "text/plain": [
       "{'Alex': 13, 'Alvin': 'Not Available', 'Jane': 22, 'John': 21, 'Peter': 39}"
      ]
     },
     "execution_count": 23,
     "metadata": {},
     "output_type": "execute_result"
    }
   ],
   "source": [
    "#Dictionary 값 추가\n",
    "userNameAndAge1[\"Jane\"] = 22\n",
    "userNameAndAge1"
   ]
  },
  {
   "cell_type": "code",
   "execution_count": null,
   "metadata": {
    "collapsed": true
   },
   "outputs": [],
   "source": []
  }
 ],
 "metadata": {
  "kernelspec": {
   "display_name": "Python 3",
   "language": "python",
   "name": "python3"
  },
  "language_info": {
   "codemirror_mode": {
    "name": "ipython",
    "version": 3
   },
   "file_extension": ".py",
   "mimetype": "text/x-python",
   "name": "python",
   "nbconvert_exporter": "python",
   "pygments_lexer": "ipython3",
   "version": "3.5.2"
  }
 },
 "nbformat": 4,
 "nbformat_minor": 2
}
