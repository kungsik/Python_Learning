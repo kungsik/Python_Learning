{
 "cells": [
  {
   "cell_type": "markdown",
   "metadata": {},
   "source": [
    "# Python 기초실습 2\n",
    "\n",
    "### 기본 입출력\n",
    "\n",
    "입력은 input() 출력은 print() 사용."
   ]
  },
  {
   "cell_type": "code",
   "execution_count": 1,
   "metadata": {},
   "outputs": [
    {
     "name": "stdout",
     "output_type": "stream",
     "text": [
      "Please enter your name:Kim\n"
     ]
    }
   ],
   "source": [
    "myName = input(\"Please enter your name:\")"
   ]
  },
  {
   "cell_type": "code",
   "execution_count": 2,
   "metadata": {},
   "outputs": [
    {
     "name": "stdout",
     "output_type": "stream",
     "text": [
      "What about your age:20\n"
     ]
    }
   ],
   "source": [
    "myAge = input(\"What about your age:\")"
   ]
  },
  {
   "cell_type": "code",
   "execution_count": 3,
   "metadata": {},
   "outputs": [
    {
     "name": "stdout",
     "output_type": "stream",
     "text": [
      "Hello, my name is Kim and I am 20 years old.\n"
     ]
    }
   ],
   "source": [
    "print(\"Hello, my name is\",myName, \"and I am\", myAge, \"years old.\")"
   ]
  },
  {
   "cell_type": "code",
   "execution_count": 5,
   "metadata": {},
   "outputs": [
    {
     "name": "stdout",
     "output_type": "stream",
     "text": [
      "Hello, my name is Kim and I am 20 years old.\n"
     ]
    }
   ],
   "source": [
    "#변수를 뒤에다가 배치하여 출력\n",
    "print(\"Hello, my name is %s and I am %s years old.\" %(myName, myAge))"
   ]
  },
  {
   "cell_type": "code",
   "execution_count": 7,
   "metadata": {},
   "outputs": [
    {
     "name": "stdout",
     "output_type": "stream",
     "text": [
      "Hello, my name is Kim and I am 20 years old.\n"
     ]
    }
   ],
   "source": [
    "#format 함수를 이용하여 출력\n",
    "print(\"Hello, my name is {} and I am {} years old.\".format(myName, myAge))"
   ]
  },
  {
   "cell_type": "code",
   "execution_count": 9,
   "metadata": {},
   "outputs": [
    {
     "name": "stdout",
     "output_type": "stream",
     "text": [
      "Hello, \n",
      "My name is Kim and\n",
      "I am 20 years old.\n"
     ]
    }
   ],
   "source": [
    "# 여러 줄로 된 긴 문자열을 출력하기 위해서 인용부호를 세번 즉, ''' 혹은 \"\"\" 을 사용한다. \n",
    "print('''Hello, \n",
    "My name is Kim and\n",
    "I am 20 years old.''')"
   ]
  },
  {
   "cell_type": "code",
   "execution_count": 10,
   "metadata": {},
   "outputs": [
    {
     "name": "stdout",
     "output_type": "stream",
     "text": [
      "Hello\n",
      "World\n"
     ]
    }
   ],
   "source": [
    "#출력이 어려운 특수 문자나 효과 출력\n",
    "#줄바꿈(\\n)\n",
    "print('Hello\\nWorld')"
   ]
  },
  {
   "cell_type": "code",
   "execution_count": 11,
   "metadata": {},
   "outputs": [
    {
     "name": "stdout",
     "output_type": "stream",
     "text": [
      "\\\n"
     ]
    }
   ],
   "source": [
    "# \\ 출력(\\\\)\n",
    "print('\\\\')"
   ]
  },
  {
   "cell_type": "code",
   "execution_count": 13,
   "metadata": {},
   "outputs": [
    {
     "name": "stdout",
     "output_type": "stream",
     "text": [
      "I am 5'9\" tall\n"
     ]
    }
   ],
   "source": [
    "#쌍따옴표 출력(\\\")\n",
    "print(\"I am 5'9\\\" tall\")"
   ]
  },
  {
   "cell_type": "code",
   "execution_count": 15,
   "metadata": {},
   "outputs": [
    {
     "name": "stdout",
     "output_type": "stream",
     "text": [
      "I am 5'9\" tall\"\n"
     ]
    }
   ],
   "source": [
    "#홑따옴표 출력(\\')\n",
    "print('I am 5\\'9\" tall\"')"
   ]
  },
  {
   "cell_type": "code",
   "execution_count": 17,
   "metadata": {},
   "outputs": [
    {
     "name": "stdout",
     "output_type": "stream",
     "text": [
      "Hello\t\tWorld\n"
     ]
    }
   ],
   "source": [
    "#탭문자(\\t)\n",
    "print(\"Hello\\t\\tWorld\")"
   ]
  },
  {
   "cell_type": "code",
   "execution_count": 18,
   "metadata": {},
   "outputs": [
    {
     "name": "stdout",
     "output_type": "stream",
     "text": [
      "Hello\\tWorld\n"
     ]
    }
   ],
   "source": [
    "#특수문자 표시를 특수문자로 인식시키지 않으려면 r을 문자열 앞에 붙임.\n",
    "print(r'Hello\\tWorld')"
   ]
  },
  {
   "cell_type": "code",
   "execution_count": null,
   "metadata": {
    "collapsed": true
   },
   "outputs": [],
   "source": []
  }
 ],
 "metadata": {
  "kernelspec": {
   "display_name": "Python 3",
   "language": "python",
   "name": "python3"
  },
  "language_info": {
   "codemirror_mode": {
    "name": "ipython",
    "version": 3
   },
   "file_extension": ".py",
   "mimetype": "text/x-python",
   "name": "python",
   "nbconvert_exporter": "python",
   "pygments_lexer": "ipython3",
   "version": "3.5.2"
  }
 },
 "nbformat": 4,
 "nbformat_minor": 2
}
